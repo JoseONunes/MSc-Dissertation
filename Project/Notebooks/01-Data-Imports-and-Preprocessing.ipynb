{
 "cells": [
  {
   "cell_type": "markdown",
   "id": "da4636b2",
   "metadata": {},
   "source": [
    "# 📘 Data Preprocessing: ASAP Dataset\n",
    "\n",
    "This notebook holds all of the preprocessing steps required for the projects relevant datasets. It includes:\n",
    "- Loading and inspecting the original ASAP data\n",
    "- Cleaning and filtering essay entries\n",
    "- Handling scoring ranges and label normalisation\n",
    "- Preparing tokenised inputs for model training\n",
    "\n",
    "All steps in this notebook follow the methodology described in Chapter 4 of the dissertation and are designed to ensure reproducibility and compatibility with the HuggingFace transformer framework.\n"
   ]
  },
  {
   "cell_type": "markdown",
   "id": "24739c5d",
   "metadata": {},
   "source": [
    "## 📂 Loading the ASAP Dataset\n",
    "\n",
    "The following section loads the original Automated Student Assessment Prize (ASAP) dataset from the \"raw\" data directory. The dataset includes approximately 13,000 student essays across eight distinct writing prompts, each with unique scoring rubrics.\n",
    "\n",
    "Key columns of interest include:\n",
    "- `essay_id`: unique identifier for each essay\n",
    "- `essay_set`: the prompt ID (1–8)\n",
    "- `essay`: the full essay text\n",
    "- `domain1_score`: the primary human-assigned score    ######should this also include the rest of the scoring, why am I just blindly trusting the domain1_score\n",
    "\n",
    "Additional fields (e.g., `rater_1_domain1`, `rater_2_domain1`) may be used for advanced analysis but are not essential to the initial modelling phase.\n"
   ]
  },
  {
   "cell_type": "code",
   "execution_count": 1,
   "id": "1b715521",
   "metadata": {},
   "outputs": [
    {
     "name": "stdout",
     "output_type": "stream",
     "text": [
      "✅ Loaded dataset with shape: (12976, 28)\n",
      "\n",
      "📋 Column names:\n",
      "['essay_id', 'essay_set', 'essay', 'rater1_domain1', 'rater2_domain1', 'rater3_domain1', 'domain1_score', 'rater1_domain2', 'rater2_domain2', 'domain2_score', 'rater1_trait1', 'rater1_trait2', 'rater1_trait3', 'rater1_trait4', 'rater1_trait5', 'rater1_trait6', 'rater2_trait1', 'rater2_trait2', 'rater2_trait3', 'rater2_trait4', 'rater2_trait5', 'rater2_trait6', 'rater3_trait1', 'rater3_trait2', 'rater3_trait3', 'rater3_trait4', 'rater3_trait5', 'rater3_trait6']\n"
     ]
    },
    {
     "data": {
      "text/html": [
       "<div>\n",
       "<style scoped>\n",
       "    .dataframe tbody tr th:only-of-type {\n",
       "        vertical-align: middle;\n",
       "    }\n",
       "\n",
       "    .dataframe tbody tr th {\n",
       "        vertical-align: top;\n",
       "    }\n",
       "\n",
       "    .dataframe thead th {\n",
       "        text-align: right;\n",
       "    }\n",
       "</style>\n",
       "<table border=\"1\" class=\"dataframe\">\n",
       "  <thead>\n",
       "    <tr style=\"text-align: right;\">\n",
       "      <th></th>\n",
       "      <th>essay_id</th>\n",
       "      <th>essay_set</th>\n",
       "      <th>domain1_score</th>\n",
       "      <th>essay</th>\n",
       "    </tr>\n",
       "  </thead>\n",
       "  <tbody>\n",
       "    <tr>\n",
       "      <th>0</th>\n",
       "      <td>1</td>\n",
       "      <td>1</td>\n",
       "      <td>8</td>\n",
       "      <td>Dear local newspaper, I think effects computer...</td>\n",
       "    </tr>\n",
       "    <tr>\n",
       "      <th>1</th>\n",
       "      <td>2</td>\n",
       "      <td>1</td>\n",
       "      <td>9</td>\n",
       "      <td>Dear @CAPS1 @CAPS2, I believe that using compu...</td>\n",
       "    </tr>\n",
       "    <tr>\n",
       "      <th>2</th>\n",
       "      <td>3</td>\n",
       "      <td>1</td>\n",
       "      <td>7</td>\n",
       "      <td>Dear, @CAPS1 @CAPS2 @CAPS3 More and more peopl...</td>\n",
       "    </tr>\n",
       "    <tr>\n",
       "      <th>3</th>\n",
       "      <td>4</td>\n",
       "      <td>1</td>\n",
       "      <td>10</td>\n",
       "      <td>Dear Local Newspaper, @CAPS1 I have found that...</td>\n",
       "    </tr>\n",
       "    <tr>\n",
       "      <th>4</th>\n",
       "      <td>5</td>\n",
       "      <td>1</td>\n",
       "      <td>8</td>\n",
       "      <td>Dear @LOCATION1, I know having computers has a...</td>\n",
       "    </tr>\n",
       "  </tbody>\n",
       "</table>\n",
       "</div>"
      ],
      "text/plain": [
       "   essay_id  essay_set  domain1_score  \\\n",
       "0         1          1              8   \n",
       "1         2          1              9   \n",
       "2         3          1              7   \n",
       "3         4          1             10   \n",
       "4         5          1              8   \n",
       "\n",
       "                                               essay  \n",
       "0  Dear local newspaper, I think effects computer...  \n",
       "1  Dear @CAPS1 @CAPS2, I believe that using compu...  \n",
       "2  Dear, @CAPS1 @CAPS2 @CAPS3 More and more peopl...  \n",
       "3  Dear Local Newspaper, @CAPS1 I have found that...  \n",
       "4  Dear @LOCATION1, I know having computers has a...  "
      ]
     },
     "execution_count": 1,
     "metadata": {},
     "output_type": "execute_result"
    }
   ],
   "source": [
    "import pandas as pd\n",
    "\n",
    "# Load in the ASAP dataset - Rel3 is used as it is the most up to date and contains the least errors\n",
    "df = pd.read_csv(\"../data/raw/asap-aes/training_set_rel3.tsv\", sep='\\t', encoding='latin1')\n",
    "\n",
    "# Basic info - for checks\n",
    "print(f\"✅ Loaded dataset with shape: {df.shape}\")\n",
    "print(\"\\n📋 Column names:\")\n",
    "print(df.columns.tolist())\n",
    "\n",
    "# Preview a few entries\n",
    "df[['essay_id', 'essay_set', 'domain1_score', 'essay']].head()\n"
   ]
  },
  {
   "cell_type": "code",
   "execution_count": 7,
   "id": "0a53be4d",
   "metadata": {},
   "outputs": [
    {
     "name": "stdout",
     "output_type": "stream",
     "text": [
      "✅ Cleaned dataset shape: (12064, 29)\n",
      "count    12064.000000\n",
      "mean       236.919678\n",
      "std        174.370685\n",
      "min         50.000000\n",
      "25%        112.000000\n",
      "50%        174.000000\n",
      "75%        324.000000\n",
      "max       1064.000000\n",
      "Name: word_count, dtype: float64\n"
     ]
    }
   ],
   "source": [
    "# Drop any rows with missing essays or scores\n",
    "df = df.dropna(subset=['essay', 'domain1_score'])\n",
    "\n",
    "# Strip whitespace and remove essays with too few words\n",
    "df['essay'] = df['essay'].str.strip()\n",
    "df['word_count'] = df['essay'].apply(lambda x: len(x.split()))\n",
    "df = df[df['word_count'] >= 50]  # remove very short essays\n",
    "\n",
    "# Reset index after filtering\n",
    "df = df.reset_index(drop=True)\n",
    "\n",
    "# Show updated shape and word count stats\n",
    "print(f\"✅ Cleaned dataset shape: {df.shape}\")\n",
    "print(df['word_count'].describe())\n"
   ]
  },
  {
   "cell_type": "code",
   "execution_count": 8,
   "id": "de630e85",
   "metadata": {},
   "outputs": [
    {
     "name": "stdout",
     "output_type": "stream",
     "text": [
      "📊 Score ranges by prompt:\n",
      "           min_score  max_score\n",
      "essay_set                      \n",
      "1                  2         12\n",
      "2                  1          6\n",
      "3                  0          3\n",
      "4                  0          3\n",
      "5                  0          4\n",
      "6                  0          4\n",
      "7                  4         24\n",
      "8                 15         60\n"
     ]
    },
    {
     "data": {
      "text/html": [
       "<div>\n",
       "<style scoped>\n",
       "    .dataframe tbody tr th:only-of-type {\n",
       "        vertical-align: middle;\n",
       "    }\n",
       "\n",
       "    .dataframe tbody tr th {\n",
       "        vertical-align: top;\n",
       "    }\n",
       "\n",
       "    .dataframe thead th {\n",
       "        text-align: right;\n",
       "    }\n",
       "</style>\n",
       "<table border=\"1\" class=\"dataframe\">\n",
       "  <thead>\n",
       "    <tr style=\"text-align: right;\">\n",
       "      <th></th>\n",
       "      <th>essay_id</th>\n",
       "      <th>essay_set</th>\n",
       "      <th>domain1_score</th>\n",
       "      <th>score_scaled</th>\n",
       "    </tr>\n",
       "  </thead>\n",
       "  <tbody>\n",
       "    <tr>\n",
       "      <th>0</th>\n",
       "      <td>1</td>\n",
       "      <td>1</td>\n",
       "      <td>8</td>\n",
       "      <td>0.6</td>\n",
       "    </tr>\n",
       "    <tr>\n",
       "      <th>1</th>\n",
       "      <td>2</td>\n",
       "      <td>1</td>\n",
       "      <td>9</td>\n",
       "      <td>0.7</td>\n",
       "    </tr>\n",
       "    <tr>\n",
       "      <th>2</th>\n",
       "      <td>3</td>\n",
       "      <td>1</td>\n",
       "      <td>7</td>\n",
       "      <td>0.5</td>\n",
       "    </tr>\n",
       "    <tr>\n",
       "      <th>3</th>\n",
       "      <td>4</td>\n",
       "      <td>1</td>\n",
       "      <td>10</td>\n",
       "      <td>0.8</td>\n",
       "    </tr>\n",
       "    <tr>\n",
       "      <th>4</th>\n",
       "      <td>5</td>\n",
       "      <td>1</td>\n",
       "      <td>8</td>\n",
       "      <td>0.6</td>\n",
       "    </tr>\n",
       "  </tbody>\n",
       "</table>\n",
       "</div>"
      ],
      "text/plain": [
       "   essay_id  essay_set  domain1_score  score_scaled\n",
       "0         1          1              8           0.6\n",
       "1         2          1              9           0.7\n",
       "2         3          1              7           0.5\n",
       "3         4          1             10           0.8\n",
       "4         5          1              8           0.6"
      ]
     },
     "execution_count": 8,
     "metadata": {},
     "output_type": "execute_result"
    }
   ],
   "source": [
    "# Get per-prompt score ranges\n",
    "prompt_stats = df.groupby('essay_set')['domain1_score'].agg(['min', 'max']).rename(columns={'min': 'min_score', 'max': 'max_score'})\n",
    "print(\"📊 Score ranges by prompt:\")\n",
    "print(prompt_stats)\n",
    "\n",
    "# Merge these stats back into the main DataFrame\n",
    "df = df.merge(prompt_stats, left_on='essay_set', right_index=True)\n",
    "\n",
    "# Apply Min–Max normalisation\n",
    "df['score_scaled'] = (df['domain1_score'] - df['min_score']) / (df['max_score'] - df['min_score'])\n",
    "\n",
    "# Preview scaled scores\n",
    "df[['essay_id', 'essay_set', 'domain1_score', 'score_scaled']].head()\n"
   ]
  },
  {
   "cell_type": "code",
   "execution_count": 9,
   "id": "47448abe",
   "metadata": {},
   "outputs": [
    {
     "data": {
      "image/png": "[encoded data removed]",
      "text/plain": [
       "<Figure size 640x480 with 1 Axes>"
      ]
     },
     "metadata": {},
     "output_type": "display_data"
    }
   ],
   "source": [
    "#Saving and Visualize the cleaned dataset\n",
    "df.to_csv(\"../data/Processed/asap_cleaned.csv\", index=False)\n",
    "import matplotlib.pyplot as plt\n",
    "df['score_scaled'].hist(bins=30)\n",
    "plt.title(\"Distribution of Normalised Scores\")\n",
    "plt.xlabel(\"score_scaled\")\n",
    "plt.ylabel(\"Count\")\n",
    "plt.show()\n"
   ]
  },
  {
   "cell_type": "markdown",
   "id": "a476b2fc",
   "metadata": {},
   "source": [
    "# ^^ that looks like a lot of full mark scores? am I happy with that? ^^"
   ]
  },
  {
   "cell_type": "markdown",
   "id": "0157b777",
   "metadata": {},
   "source": []
  }
 ],
 "metadata": {
  "kernelspec": {
   "display_name": "aes-env",
   "language": "python",
   "name": "python3"
  },
  "language_info": {
   "codemirror_mode": {
    "name": "ipython",
    "version": 3
   },
   "file_extension": ".py",
   "mimetype": "text/x-python",
   "name": "python",
   "nbconvert_exporter": "python",
   "pygments_lexer": "ipython3",
   "version": "3.13.2"
  }
 },
 "nbformat": 4,
 "nbformat_minor": 5
}
